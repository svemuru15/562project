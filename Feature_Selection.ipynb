{
 "cells": [
  {
   "cell_type": "code",
   "execution_count": null,
   "id": "1d4823a5-b9f3-49ba-aef3-a4983a9fa336",
   "metadata": {},
   "outputs": [],
   "source": [
    "lasso = Lasso(alpha=0.001)\n",
    "ridge = Ridge(alpha=1.0)\n",
    "lasso.fit(X_train, y_train)\n",
    "ridge.fit(X_train, y_train)\n",
    "lasso_coefficients = lasso.coef_\n",
    "ridge_coefficients = ridge.coef_\n",
    "\n",
    "coefficients = pd.DataFrame({\n",
    "    'Features': X.columns,\n",
    "    'Lasso': lasso_coefficients,\n",
    "    'Ridge': ridge_coefficients\n",
    "}).set_index('Features')\n",
    "\n",
    "plt.figure(figsize=(18, 6))\n",
    "sns.heatmap(coefficients.T, annot=True, fmt='.2f', cmap='coolwarm', cbar_kws={'label': 'Coefficient Value'})\n",
    "plt.title('LASSO vs. Ridge Regression Coefficients')\n",
    "plt.xlabel('Features')\n",
    "plt.ylabel('Model Type')\n",
    "plt.xticks(rotation=45, ha='right')\n",
    "plt.tight_layout()\n",
    "plt.show()"
   ]
  }
 ],
 "metadata": {
  "kernelspec": {
   "display_name": "Python 3 (ipykernel)",
   "language": "python",
   "name": "python3"
  },
  "language_info": {
   "codemirror_mode": {
    "name": "ipython",
    "version": 3
   },
   "file_extension": ".py",
   "mimetype": "text/x-python",
   "name": "python",
   "nbconvert_exporter": "python",
   "pygments_lexer": "ipython3",
   "version": "3.11.4"
  }
 },
 "nbformat": 4,
 "nbformat_minor": 5
}
